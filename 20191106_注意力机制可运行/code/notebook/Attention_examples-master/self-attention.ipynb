{
 "cells": [
  {
   "cell_type": "code",
   "execution_count": 1,
   "metadata": {
    "collapsed": true
   },
   "outputs": [],
   "source": [
    "from torchtext import data\n",
    "from torchtext import datasets\n",
    "from torchtext.vocab import GloVe\n",
    "import torch.nn as nn\n",
    "import torch.optim as optim\n",
    "import torch.nn.functional as F\n",
    "import torch\n",
    "from tqdm import tqdm"
   ]
  },
  {
   "cell_type": "code",
   "execution_count": 34,
   "metadata": {
    "collapsed": true
   },
   "outputs": [],
   "source": [
    "device = torch.device('cuda' if torch.cuda.is_available() else 'cpu')\n",
    "batch_size = 64\n",
    "embedding_dim = 200\n",
    "hidden_dim = 200\n",
    "epochs = 5"
   ]
  },
  {
   "cell_type": "code",
   "execution_count": 24,
   "metadata": {},
   "outputs": [
    {
     "name": "stderr",
     "output_type": "stream",
     "text": [
      "100%|██████████| 400000/400000 [00:27<00:00, 14621.98it/s]\n"
     ]
    }
   ],
   "source": [
    " # define Field\n",
    "TEXT = data.ReversibleField(lower=True, include_lengths=True)\n",
    "LABEL = data.Field(sequential=False)\n",
    "# make splits for data\n",
    "train, test = datasets.IMDB.splits(TEXT, LABEL)\n",
    "# build the vocabulary\n",
    "TEXT.build_vocab(train, vectors=GloVe(name='6B', dim=embedding_dim))\n",
    "LABEL.build_vocab(train)\n",
    "\n",
    "train_iter, test_iter = data.BucketIterator.splits(\n",
    "        (train, test), sort_key=lambda x:len(x.text),\n",
    "        sort_within_batch=True, \n",
    "        batch_size=batch_size, device=device,\n",
    "        repeat=False)"
   ]
  },
  {
   "cell_type": "code",
   "execution_count": 25,
   "metadata": {
    "collapsed": true
   },
   "outputs": [],
   "source": [
    "class SelfAttention(nn.Module):\n",
    "    def __init__(self, hidden_dim):\n",
    "        super().__init__()\n",
    "        self.hidden_dim = hidden_dim\n",
    "        self.projection = nn.Sequential(\n",
    "            nn.Linear(hidden_dim, 64),\n",
    "            nn.ReLU(True),\n",
    "            nn.Linear(64, 1)\n",
    "        )\n",
    "\n",
    "    def forward(self, encoder_outputs):\n",
    "        batch_size = encoder_outputs.size(0)\n",
    "        # (B, L, H) -> (B , L, 1)\n",
    "        energy = self.projection(encoder_outputs)\n",
    "        weights = F.softmax(energy.squeeze(-1), dim=1)\n",
    "        # (B, L, H) * (B, L, 1) -> (B, H)\n",
    "        outputs = (encoder_outputs * weights.unsqueeze(-1)).sum(dim=1)\n",
    "        return outputs, weights\n",
    "\n",
    "class AttnClassifier(nn.Module):\n",
    "    def __init__(self, input_dim, embedding_dim, hidden_dim):\n",
    "        super().__init__()\n",
    "        self.input_dim = input_dim\n",
    "        self.embedding_dim = embedding_dim\n",
    "        self.hidden_dim = hidden_dim\n",
    "        self.embedding = nn.Embedding(input_dim, embedding_dim)\n",
    "        self.lstm = nn.LSTM(embedding_dim, hidden_dim, bidirectional=True)\n",
    "        self.attention = SelfAttention(hidden_dim)\n",
    "        self.fc = nn.Linear(hidden_dim, 1)\n",
    "        \n",
    "    def set_embedding(self, vectors):\n",
    "        self.embedding.weight.data.copy_(vectors)\n",
    "        \n",
    "    def forward(self, inputs, lengths):\n",
    "        batch_size = inputs.size(1)\n",
    "        # (L, B)\n",
    "        embedded = self.embedding(inputs)\n",
    "        # (L, B, E)\n",
    "        packed_emb = nn.utils.rnn.pack_padded_sequence(embedded, lengths)\n",
    "        out, hidden = self.lstm(packed_emb)\n",
    "        out = nn.utils.rnn.pad_packed_sequence(out)[0]\n",
    "        out = out[:, :, :self.hidden_dim] + out[:, :, self.hidden_dim:]\n",
    "        # (L, B, H)\n",
    "        embedding, attn_weights = self.attention(out.transpose(0, 1))\n",
    "        # (B, HOP, H)\n",
    "        outputs = self.fc(embedding.view(batch_size, -1))\n",
    "        # (B, 1)\n",
    "        return outputs, attn_weights"
   ]
  },
  {
   "cell_type": "code",
   "execution_count": 26,
   "metadata": {
    "collapsed": true
   },
   "outputs": [],
   "source": [
    "def train(train_iter, model, optimizer, criterion):\n",
    "    model.train()\n",
    "    epoch_loss = 0\n",
    "    bar = tqdm(total=len(train_iter))\n",
    "    b_ix = 1\n",
    "    for batch in train_iter:\n",
    "        (x, x_l), y = batch.text, batch.label - 1\n",
    "        optimizer.zero_grad()\n",
    "        outputs, _ = model(x, x_l)\n",
    "        loss = criterion(outputs.view(-1), y.float())\n",
    "        loss.backward()\n",
    "        optimizer.step()\n",
    "        epoch_loss += loss.item()\n",
    "        if b_ix % 10 == 0:\n",
    "            bar.update(10)\n",
    "            bar.set_description('current loss:{:.4f}'.format(epoch_loss / b_ix))\n",
    "        b_ix += 1\n",
    "    bar.update((b_ix - 1) % 10)\n",
    "    bar.close()\n",
    "    return epoch_loss / len(train_iter)"
   ]
  },
  {
   "cell_type": "code",
   "execution_count": 35,
   "metadata": {},
   "outputs": [
    {
     "name": "stderr",
     "output_type": "stream",
     "text": [
      "current loss:0.3752: 100%|██████████| 391/391 [00:29<00:00, 13.20it/s]\n",
      "current loss:0.1868: 100%|██████████| 391/391 [00:28<00:00, 13.71it/s]\n",
      "current loss:0.0909: 100%|██████████| 391/391 [00:27<00:00, 14.20it/s]\n",
      "current loss:0.0266: 100%|██████████| 391/391 [00:30<00:00, 13.01it/s]\n",
      "current loss:0.0075: 100%|██████████| 391/391 [00:30<00:00, 12.78it/s]\n"
     ]
    }
   ],
   "source": [
    "model = AttnClassifier(len(TEXT.vocab), embedding_dim, hidden_dim).to(device)\n",
    "model.set_embedding(TEXT.vocab.vectors)\n",
    "# optim\n",
    "optimizer = optim.Adam(model.parameters())\n",
    "criterion = nn.BCEWithLogitsLoss().to(device)\n",
    "# train model \n",
    "for epoch in range(epochs):\n",
    "    train(train_iter, model, optimizer, criterion)"
   ]
  },
  {
   "cell_type": "code",
   "execution_count": 36,
   "metadata": {
    "collapsed": true
   },
   "outputs": [],
   "source": [
    "def binary_accuracy(preds, y):\n",
    "    # round predictions to the closest integer\n",
    "    rounded_preds = torch.round(F.sigmoid(preds))\n",
    "    correct = (rounded_preds == y).float()  # convert into float for division\n",
    "    acc = correct.sum() / len(correct)\n",
    "    return acc\n",
    "\n",
    "def accuracy(model, test_iter):\n",
    "    model.eval()\n",
    "    total_acc = 0\n",
    "    for batch in test_iter:\n",
    "        (x, x_l), y = batch.text, batch.label - 1\n",
    "        outputs,_ = model(x, x_l)\n",
    "        total_acc += binary_accuracy(outputs.view(-1), y.float()).item()\n",
    "    return total_acc / len(test_iter)"
   ]
  },
  {
   "cell_type": "code",
   "execution_count": 37,
   "metadata": {},
   "outputs": [
    {
     "name": "stdout",
     "output_type": "stream",
     "text": [
      "0.8739050512423601\n"
     ]
    }
   ],
   "source": [
    "print(accuracy(model, test_iter))"
   ]
  },
  {
   "cell_type": "code",
   "execution_count": 38,
   "metadata": {
    "collapsed": true
   },
   "outputs": [],
   "source": [
    "def highlight(word, attn):\n",
    "    html_color = '#%02X%02X%02X' % (255, int(255*(1 - attn)), int(255*(1 - attn)))\n",
    "    return '<span style=\"background-color: {}\">{}</span>'.format(html_color, word)\n",
    "\n",
    "def mk_html(seq, attns):\n",
    "    html = \"\"\n",
    "    for ix, attn in zip(seq, attns):\n",
    "        html += ' ' + highlight(\n",
    "            TEXT.vocab.itos[ix],\n",
    "            attn\n",
    "        )\n",
    "    return html + \"<br><br>\\n\""
   ]
  },
  {
   "cell_type": "code",
   "execution_count": 43,
   "metadata": {},
   "outputs": [
    {
     "data": {
      "text/html": [
       " <span style=\"background-color: #FFFDFD\"> a </span> <span style=\"background-color: #FFF5F5\"> dedicated </span> <span style=\"background-color: #FFFDFD\"> russian </span> <span style=\"background-color: #FFFDFD\"> scientist </span> <span style=\"background-color: #FFFEFE\"> dreams </span> <span style=\"background-color: #FFFEFE\"> of </span> <span style=\"background-color: #FFFEFE\"> going </span> <span style=\"background-color: #FFFEFE\"> to </span> <span style=\"background-color: #FFFEFE\"> mars </span> <span style=\"background-color: #FFFEFE\">. </span> <span style=\"background-color: #FFFEFE\"> he </span> <span style=\"background-color: #FFFEFE\"> eventually </span> <span style=\"background-color: #FFFEFE\"> gets </span> <span style=\"background-color: #FFFEFE\"> there </span> <span style=\"background-color: #FFFEFE\"> but </span> <span style=\"background-color: #FFFAFA\"> it </span> <span style=\"background-color: #FFF0F0\"> takes </span> <span style=\"background-color: #FFFAFA\"> the </span> <span style=\"background-color: #FFB8B8\"> whole </span> <span style=\"background-color: #FFA5A5\"> film </span> <span style=\"background-color: #FFF9F9\"> before </span> <span style=\"background-color: #FFFDFD\"> we </span> <span style=\"background-color: #FFFEFE\"> are </span> <span style=\"background-color: #FFFEFE\"> able </span> <span style=\"background-color: #FFFEFE\"> to </span> <span style=\"background-color: #FFFEFE\"> have </span> <span style=\"background-color: #FFFEFE\"> a </span> <span style=\"background-color: #FFFEFE\"> laugh </span> <span style=\"background-color: #FFFEFE\"> at </span> <span style=\"background-color: #FFFEFE\"> the </span> <span style=\"background-color: #FFFEFE\"> russian </span> <span style=\"background-color: #FFFCFC\"> style </span> <span style=\"background-color: #FFFDFD\"> of </span> <span style=\"background-color: #FFFBFB\"> revolution </span> <span style=\"background-color: #FFFDFD\"> in </span> <span style=\"background-color: #FFFCFC\"> mars </span> <span style=\"background-color: #FFFBFB\">. </span> <span style=\"background-color: #FFE4E4\"><pad></span><br><br>\n"
      ],
      "text/plain": [
       "<IPython.core.display.HTML object>"
      ]
     },
     "metadata": {},
     "output_type": "display_data"
    },
    {
     "data": {
      "text/html": [
       " <span style=\"background-color: #FFFBFB\"> a </span> <span style=\"background-color: #FFF5F5\"> real </span> <span style=\"background-color: #FFF3F3\"> hoot </span> <span style=\"background-color: #FFFAFA\">, </span> <span style=\"background-color: #FFF6F6\"> unintentionally </span> <span style=\"background-color: #FFFBFB\">. </span> <span style=\"background-color: #FFF6F6\"> sidney </span> <span style=\"background-color: #FFFCFC\"> UNK </span> <span style=\"background-color: #FFFEFE\">'</span> <span style=\"background-color: #FFFBFB\"> s </span> <span style=\"background-color: #FFF5F5\"> character </span> <span style=\"background-color: #FFFCFC\"> is </span> <span style=\"background-color: #FFF8F8\"> so </span> <span style=\"background-color: #FFE5E5\"> sweet </span> <span style=\"background-color: #FFF3F3\"> and </span> <span style=\"background-color: #FFD9D9\"> lovable </span> <span style=\"background-color: #FFF6F6\"> you </span> <span style=\"background-color: #FFFEFE\"> want </span> <span style=\"background-color: #FFFEFE\"> to </span> <span style=\"background-color: #FFFEFE\"> smack </span> <span style=\"background-color: #FFFEFE\"> him </span> <span style=\"background-color: #FFFEFE\">. </span> <span style=\"background-color: #FFF7F7\"> nothing </span> <span style=\"background-color: #FFFEFE\"> about </span> <span style=\"background-color: #FFF9F9\"> this </span> <span style=\"background-color: #FFFBFB\"> movie </span> <span style=\"background-color: #FFFEFE\"> rings </span> <span style=\"background-color: #FFFDFD\"> true </span> <span style=\"background-color: #FFFDFD\">. </span> <span style=\"background-color: #FFFDFD\"> and </span> <span style=\"background-color: #FFFDFD\"> it </span> <span style=\"background-color: #FFFEFE\">'</span> <span style=\"background-color: #FFFCFC\"> s </span> <span style=\"background-color: #FFBFBF\"> boring </span> <span style=\"background-color: #FFFDFD\"> to </span> <span style=\"background-color: #FFFBFB\"> boot </span> <span style=\"background-color: #FFFEFE\">. </span> <span style=\"background-color: #FFFDFD\"><pad></span><br><br>\n"
      ],
      "text/plain": [
       "<IPython.core.display.HTML object>"
      ]
     },
     "metadata": {},
     "output_type": "display_data"
    },
    {
     "data": {
      "text/html": [
       " <span style=\"background-color: #FFFEFE\"> im </span> <span style=\"background-color: #FFFEFE\"> sure </span> <span style=\"background-color: #FFFEFE\"> he </span> <span style=\"background-color: #FFFEFE\"> doesnt </span> <span style=\"background-color: #FFFEFE\"> need </span> <span style=\"background-color: #FFFEFE\"> the </span> <span style=\"background-color: #FFFEFE\"> money </span> <span style=\"background-color: #FFFEFE\"> for </span> <span style=\"background-color: #FFFEFE\"> a </span> <span style=\"background-color: #FFFEFE\"> life </span> <span style=\"background-color: #FFFEFE\"> saving </span> <span style=\"background-color: #FFFEFE\"> operation </span> <span style=\"background-color: #FFFEFE\"> or </span> <span style=\"background-color: #FFFCFC\"> transplant </span> <span style=\"background-color: #FFFEFE\">. </span> <span style=\"background-color: #FFFEFE\"> in </span> <span style=\"background-color: #FFFCFC\"> all </span> <span style=\"background-color: #FFF1F1\"> honesty </span> <span style=\"background-color: #FFF6F6\"> i </span> <span style=\"background-color: #FFF8F8\"> think </span> <span style=\"background-color: #FFE9E9\"> this </span> <span style=\"background-color: #FFDDDD\"> review </span> <span style=\"background-color: #FFD5D5\"> qualifies </span> <span style=\"background-color: #FFEAEA\"> as </span> <span style=\"background-color: #FFF0F0\"> a </span> <span style=\"background-color: #FFEDED\"> better </span> <span style=\"background-color: #FFE3E3\"> movie </span> <span style=\"background-color: #FFF8F8\"> than </span> <span style=\"background-color: #FFFEFE\"> '</span> <span style=\"background-color: #FFFCFC\"> bulletproof </span> <span style=\"background-color: #FFFEFE\">' </span> <span style=\"background-color: #FFFCFC\">. </span> <span style=\"background-color: #FFE5E5\"> thanks </span> <span style=\"background-color: #FFFDFD\"> for </span> <span style=\"background-color: #FFFEFE\"> listening </span> <span style=\"background-color: #FFFEFE\">. </span> <span style=\"background-color: #FFFDFD\"><pad></span> <span style=\"background-color: #FFFDFD\"><pad></span><br><br>\n"
      ],
      "text/plain": [
       "<IPython.core.display.HTML object>"
      ]
     },
     "metadata": {},
     "output_type": "display_data"
    },
    {
     "data": {
      "text/html": [
       " <span style=\"background-color: #FFFDFD\"> you </span> <span style=\"background-color: #FFFEFE\"> may </span> <span style=\"background-color: #FFFEFE\"> like </span> <span style=\"background-color: #FFFEFE\"> tim </span> <span style=\"background-color: #FFFEFE\"> burton </span> <span style=\"background-color: #FFFEFE\">'</span> <span style=\"background-color: #FFFEFE\"> s </span> <span style=\"background-color: #FFFEFE\"> fantasies </span> <span style=\"background-color: #FFFEFE\">, </span> <span style=\"background-color: #FFFEFE\"> but </span> <span style=\"background-color: #FFFEFE\"> not </span> <span style=\"background-color: #FFFEFE\"> in </span> <span style=\"background-color: #FFFEFE\"> a </span> <span style=\"background-color: #FFFEFE\"> commercial </span> <span style=\"background-color: #FFFEFE\">-</span> <span style=\"background-color: #FFFEFE\"> like </span> <span style=\"background-color: #FFFBFB\"> show </span> <span style=\"background-color: #FFFDFD\"> off </span> <span style=\"background-color: #FFE3E3\"> lasting </span> <span style=\"background-color: #FF9797\"> 8 </span> <span style=\"background-color: #FFDDDD\"> minutes </span> <span style=\"background-color: #FFF6F6\">. </span> <span style=\"background-color: #FFF4F4\"> it </span> <span style=\"background-color: #FFF4F4\"> demonstrates </span> <span style=\"background-color: #FFEAEA\"> good </span> <span style=\"background-color: #FFF6F6\"> technical </span> <span style=\"background-color: #FFFAFA\"> points </span> <span style=\"background-color: #FFFEFE\"> without </span> <span style=\"background-color: #FFFEFE\"> real </span> <span style=\"background-color: #FFFEFE\"> creativity </span> <span style=\"background-color: #FFFEFE\"> or </span> <span style=\"background-color: #FFFEFE\"> some </span> <span style=\"background-color: #FFFEFE\"> established </span> <span style=\"background-color: #FFFAFA\"> narrative </span> <span style=\"background-color: #FFF6F6\"> pace </span> <span style=\"background-color: #FFFDFD\">. </span> <span style=\"background-color: #FFFCFC\"><pad></span> <span style=\"background-color: #FFFCFC\"><pad></span><br><br>\n"
      ],
      "text/plain": [
       "<IPython.core.display.HTML object>"
      ]
     },
     "metadata": {},
     "output_type": "display_data"
    },
    {
     "data": {
      "text/html": [
       " <span style=\"background-color: #FFEFEF\"> very </span> <span style=\"background-color: #FFDADA\"> intelligent </span> <span style=\"background-color: #FFEFEF\"> language </span> <span style=\"background-color: #FFF9F9\"> usage </span> <span style=\"background-color: #FFFEFE\"> of </span> <span style=\"background-color: #FFFEFE\"> ali </span> <span style=\"background-color: #FFFEFE\">, </span> <span style=\"background-color: #FFFEFE\"> which </span> <span style=\"background-color: #FFFEFE\"> you </span> <span style=\"background-color: #FFFEFE\"> musn </span> <span style=\"background-color: #FFFEFE\">'</span> <span style=\"background-color: #FFFEFE\"> t </span> <span style=\"background-color: #FFFEFE\"> miss </span> <span style=\"background-color: #FFFDFD\">! </span> <span style=\"background-color: #FFFEFE\"> in </span> <span style=\"background-color: #FFFAFA\"> one </span> <span style=\"background-color: #FFF8F8\"> word </span> <span style=\"background-color: #FFFDFD\">: </span> <span style=\"background-color: #FFFEFE\"> (</span> <span style=\"background-color: #FFEBEB\"> UNK </span> <span style=\"background-color: #FFD4D4\"> sentence </span> <span style=\"background-color: #FFFAFA\">. </span> <span style=\"background-color: #FFFDFD\">. </span> <span style=\"background-color: #FFFDFD\">. </span> <span style=\"background-color: #FFFEFE\">) </span> <span style=\"background-color: #FFFEFE\"> wicked </span> <span style=\"background-color: #FFFEFE\">, </span> <span style=\"background-color: #FFFEFE\"> so </span> <span style=\"background-color: #FFFEFE\"> keep </span> <span style=\"background-color: #FFFAFA\"> it </span> <span style=\"background-color: #FFF7F7\"> real </span> <span style=\"background-color: #FFF5F5\"> and </span> <span style=\"background-color: #FFE1E1\"> pass </span> <span style=\"background-color: #FFECEC\"> it </span> <span style=\"background-color: #FFFCFC\"> on </span> <span style=\"background-color: #FFFAFA\">! </span> <span style=\"background-color: #FFF6F6\"><pad></span> <span style=\"background-color: #FFF6F6\"><pad></span><br><br>\n"
      ],
      "text/plain": [
       "<IPython.core.display.HTML object>"
      ]
     },
     "metadata": {},
     "output_type": "display_data"
    },
    {
     "data": {
      "text/html": [
       " <span style=\"background-color: #FFFAFA\"> my </span> <span style=\"background-color: #FFFCFC\"> first </span> <span style=\"background-color: #FFFBFB\"> thoughts </span> <span style=\"background-color: #FFFDFD\"> on </span> <span style=\"background-color: #FFEFEF\"> this </span> <span style=\"background-color: #FFE8E8\"> film </span> <span style=\"background-color: #FFFAFA\"> were </span> <span style=\"background-color: #FFFCFC\"> of </span> <span style=\"background-color: #FFFEFE\"> using </span> <span style=\"background-color: #FFFDFD\"> science </span> <span style=\"background-color: #FFFEFE\"> fiction </span> <span style=\"background-color: #FFFEFE\"> as </span> <span style=\"background-color: #FFFEFE\"> a </span> <span style=\"background-color: #FFFAFA\"> bad </span> <span style=\"background-color: #FFFEFE\"> way </span> <span style=\"background-color: #FFFEFE\"> to </span> <span style=\"background-color: #FFFEFE\"> show </span> <span style=\"background-color: #FFFEFE\"> naked </span> <span style=\"background-color: #FFFEFE\"> women </span> <span style=\"background-color: #FFFEFE\">, </span> <span style=\"background-color: #FFFEFE\"> UNK </span> <span style=\"background-color: #FFFEFE\"> not </span> <span style=\"background-color: #FFFDFD\"> a </span> <span style=\"background-color: #FFC3C3\"> brilliant </span> <span style=\"background-color: #FFEAEA\"> story </span> <span style=\"background-color: #FFF9F9\"> line </span> <span style=\"background-color: #FFEFEF\"> it </span> <span style=\"background-color: #FFFEFE\"> had </span> <span style=\"background-color: #FFFAFA\"> quite </span> <span style=\"background-color: #FFFCFC\"> a </span> <span style=\"background-color: #FFE4E4\"> good </span> <span style=\"background-color: #FFF2F2\"> ending </span> <span style=\"background-color: #FFF7F7\"><pad></span> <span style=\"background-color: #FFF7F7\"><pad></span> <span style=\"background-color: #FFF7F7\"><pad></span> <span style=\"background-color: #FFF7F7\"><pad></span> <span style=\"background-color: #FFF7F7\"><pad></span> <span style=\"background-color: #FFF7F7\"><pad></span><br><br>\n"
      ],
      "text/plain": [
       "<IPython.core.display.HTML object>"
      ]
     },
     "metadata": {},
     "output_type": "display_data"
    },
    {
     "data": {
      "text/html": [
       " <span style=\"background-color: #FFF8F8\"> widow </span> <span style=\"background-color: #FFF9F9\"> hires </span> <span style=\"background-color: #FFFEFE\"> a </span> <span style=\"background-color: #FFFAFA\"> psychopath </span> <span style=\"background-color: #FFFBFB\"> as </span> <span style=\"background-color: #FFFBFB\"> a </span> <span style=\"background-color: #FFF1F1\"> handyman </span> <span style=\"background-color: #FFF9F9\">. </span> <span style=\"background-color: #FFCCCC\"> sloppy </span> <span style=\"background-color: #FFEEEE\"> film </span> <span style=\"background-color: #FFCACA\"> noir </span> <span style=\"background-color: #FFDDDD\"> thriller </span> <span style=\"background-color: #FFF8F8\"> which </span> <span style=\"background-color: #FFFDFD\"> doesn </span> <span style=\"background-color: #FFFEFE\">'</span> <span style=\"background-color: #FFFEFE\"> t </span> <span style=\"background-color: #FFFEFE\"> make </span> <span style=\"background-color: #FFFEFE\"> much </span> <span style=\"background-color: #FFFEFE\"> of </span> <span style=\"background-color: #FFFEFE\"> its </span> <span style=\"background-color: #FFF9F9\"> tension </span> <span style=\"background-color: #FFF4F4\"> promising </span> <span style=\"background-color: #FFFDFD\"> set </span> <span style=\"background-color: #FFFEFE\">-</span> <span style=\"background-color: #FFFDFD\"> up </span> <span style=\"background-color: #FFFEFE\">. </span> <span style=\"background-color: #FFFEFE\"> (</span> <span style=\"background-color: #FFF6F6\"> 3 </span> <span style=\"background-color: #FFFDFD\">/</span> <span style=\"background-color: #FFFCFC\"> 10 </span> <span style=\"background-color: #FFFEFE\">) </span> <span style=\"background-color: #FFFCFC\"><pad></span> <span style=\"background-color: #FFFCFC\"><pad></span> <span style=\"background-color: #FFFCFC\"><pad></span> <span style=\"background-color: #FFFCFC\"><pad></span> <span style=\"background-color: #FFFCFC\"><pad></span> <span style=\"background-color: #FFFCFC\"><pad></span> <span style=\"background-color: #FFFCFC\"><pad></span><br><br>\n"
      ],
      "text/plain": [
       "<IPython.core.display.HTML object>"
      ]
     },
     "metadata": {},
     "output_type": "display_data"
    },
    {
     "data": {
      "text/html": [
       " <span style=\"background-color: #FFFBFB\"> more </span> <span style=\"background-color: #FFC6C6\"> suspenseful </span> <span style=\"background-color: #FFF5F5\">, </span> <span style=\"background-color: #FFFCFC\"> more </span> <span style=\"background-color: #FFD5D5\"> subtle </span> <span style=\"background-color: #FFF8F8\">, </span> <span style=\"background-color: #FFFCFC\"> much </span> <span style=\"background-color: #FFFDFD\">, </span> <span style=\"background-color: #FFFEFE\"> much </span> <span style=\"background-color: #FFFEFE\"> more </span> <span style=\"background-color: #FFF9F9\"> disturbing </span> <span style=\"background-color: #FFFDFD\">. </span> <span style=\"background-color: #FFFDFD\">. </span> <span style=\"background-color: #FFFDFD\">. </span> <span style=\"background-color: #FFFDFD\">. </span> <span style=\"background-color: #FFF9F9\"><pad></span> <span style=\"background-color: #FFF9F9\"><pad></span> <span style=\"background-color: #FFF9F9\"><pad></span> <span style=\"background-color: #FFF9F9\"><pad></span> <span style=\"background-color: #FFF9F9\"><pad></span> <span style=\"background-color: #FFF9F9\"><pad></span> <span style=\"background-color: #FFF9F9\"><pad></span> <span style=\"background-color: #FFF9F9\"><pad></span> <span style=\"background-color: #FFF9F9\"><pad></span> <span style=\"background-color: #FFF9F9\"><pad></span> <span style=\"background-color: #FFF9F9\"><pad></span> <span style=\"background-color: #FFF9F9\"><pad></span> <span style=\"background-color: #FFF9F9\"><pad></span> <span style=\"background-color: #FFF9F9\"><pad></span> <span style=\"background-color: #FFF9F9\"><pad></span> <span style=\"background-color: #FFF9F9\"><pad></span> <span style=\"background-color: #FFF9F9\"><pad></span> <span style=\"background-color: #FFF9F9\"><pad></span> <span style=\"background-color: #FFF9F9\"><pad></span> <span style=\"background-color: #FFF9F9\"><pad></span> <span style=\"background-color: #FFF9F9\"><pad></span> <span style=\"background-color: #FFF9F9\"><pad></span> <span style=\"background-color: #FFF9F9\"><pad></span><br><br>\n"
      ],
      "text/plain": [
       "<IPython.core.display.HTML object>"
      ]
     },
     "metadata": {},
     "output_type": "display_data"
    },
    {
     "data": {
      "text/html": [
       " <span style=\"background-color: #FFF6F6\"> i </span> <span style=\"background-color: #FFFCFC\"> hope </span> <span style=\"background-color: #FFEFEF\"> this </span> <span style=\"background-color: #FFFEFE\"> group </span> <span style=\"background-color: #FFFDFD\"> of </span> <span style=\"background-color: #FFFCFC\"> film </span> <span style=\"background-color: #FFFEFE\">-</span> <span style=\"background-color: #FFFEFE\"> makers </span> <span style=\"background-color: #FFFEFE\"> never </span> <span style=\"background-color: #FFFEFE\"> re </span> <span style=\"background-color: #FFFEFE\">-</span> <span style=\"background-color: #FFE5E5\"> unites </span> <span style=\"background-color: #FFFBFB\">. </span> <span style=\"background-color: #FFF7F7\"><pad></span> <span style=\"background-color: #FFF7F7\"><pad></span> <span style=\"background-color: #FFF7F7\"><pad></span> <span style=\"background-color: #FFF7F7\"><pad></span> <span style=\"background-color: #FFF7F7\"><pad></span> <span style=\"background-color: #FFF7F7\"><pad></span> <span style=\"background-color: #FFF7F7\"><pad></span> <span style=\"background-color: #FFF7F7\"><pad></span> <span style=\"background-color: #FFF7F7\"><pad></span> <span style=\"background-color: #FFF7F7\"><pad></span> <span style=\"background-color: #FFF7F7\"><pad></span> <span style=\"background-color: #FFF7F7\"><pad></span> <span style=\"background-color: #FFF7F7\"><pad></span> <span style=\"background-color: #FFF7F7\"><pad></span> <span style=\"background-color: #FFF7F7\"><pad></span> <span style=\"background-color: #FFF7F7\"><pad></span> <span style=\"background-color: #FFF7F7\"><pad></span> <span style=\"background-color: #FFF7F7\"><pad></span> <span style=\"background-color: #FFF7F7\"><pad></span> <span style=\"background-color: #FFF7F7\"><pad></span> <span style=\"background-color: #FFF7F7\"><pad></span> <span style=\"background-color: #FFF7F7\"><pad></span> <span style=\"background-color: #FFF7F7\"><pad></span> <span style=\"background-color: #FFF7F7\"><pad></span> <span style=\"background-color: #FFF7F7\"><pad></span><br><br>\n"
      ],
      "text/plain": [
       "<IPython.core.display.HTML object>"
      ]
     },
     "metadata": {},
     "output_type": "display_data"
    }
   ],
   "source": [
    "from IPython.display import HTML, display\n",
    "with torch.no_grad():\n",
    "    for batch in test_iter:\n",
    "        x, x_l = batch.text\n",
    "        y = batch.label - 1\n",
    "        outputs, attn_weights = model(x, x_l)\n",
    "        for i in range(batch_size):\n",
    "            if torch.round(F.sigmoid(outputs[i])) != y[i].float():\n",
    "                text = mk_html(x.t()[i].cpu().numpy(), attn_weights[i].cpu().numpy())\n",
    "                display(HTML(text))\n",
    "        break"
   ]
  }
 ],
 "metadata": {
  "kernelspec": {
   "display_name": "Python 3",
   "language": "python",
   "name": "python3"
  },
  "language_info": {
   "codemirror_mode": {
    "name": "ipython",
    "version": 3
   },
   "file_extension": ".py",
   "mimetype": "text/x-python",
   "name": "python",
   "nbconvert_exporter": "python",
   "pygments_lexer": "ipython3",
   "version": "3.6.7"
  }
 },
 "nbformat": 4,
 "nbformat_minor": 2
}
