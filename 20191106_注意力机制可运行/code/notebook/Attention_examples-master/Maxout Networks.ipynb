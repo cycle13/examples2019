{
 "cells": [
  {
   "cell_type": "code",
   "execution_count": 1,
   "metadata": {
    "collapsed": true
   },
   "outputs": [],
   "source": [
    "import numpy as np \n",
    "import torch \n",
    "import torch.nn as nn \n",
    "from torchvision import datasets, transforms \n",
    "from torch.nn import init\n",
    "import torch.nn.functional as F\n",
    "import matplotlib.pyplot as plt \n",
    "import seaborn as sns\n",
    "%matplotlib inline"
   ]
  },
  {
   "cell_type": "markdown",
   "metadata": {},
   "source": [
    "copy from [Maxout Networks](https://github.com/Duncanswilson/maxout-pytorch/blob/master/maxout_pytorch.ipynb)\n",
    "<br>\n",
    "pytorch 0.4.0"
   ]
  },
  {
   "cell_type": "code",
   "execution_count": 4,
   "metadata": {
    "collapsed": true
   },
   "outputs": [],
   "source": [
    "learning_rate = 0.0001\n",
    "batch_size = 50\n",
    "n_epochs = 3\n",
    "device = torch.device('cuda' if torch.cuda.is_available() else 'cpu')"
   ]
  },
  {
   "cell_type": "code",
   "execution_count": 5,
   "metadata": {},
   "outputs": [
    {
     "name": "stdout",
     "output_type": "stream",
     "text": [
      "Downloading http://yann.lecun.com/exdb/mnist/train-images-idx3-ubyte.gz\n",
      "Downloading http://yann.lecun.com/exdb/mnist/train-labels-idx1-ubyte.gz\n",
      "Downloading http://yann.lecun.com/exdb/mnist/t10k-images-idx3-ubyte.gz\n",
      "Downloading http://yann.lecun.com/exdb/mnist/t10k-labels-idx1-ubyte.gz\n",
      "Processing...\n",
      "Done!\n"
     ]
    }
   ],
   "source": [
    "train_loader = torch.utils.data.DataLoader(\n",
    "    datasets.MNIST('./data', train=True, download=True,\n",
    "                   transform=transforms.Compose([\n",
    "                       transforms.ToTensor(),\n",
    "                       transforms.Normalize((0.1307,), (0.3081,))\n",
    "                       ])),\n",
    "                       batch_size=batch_size, shuffle=True)"
   ]
  },
  {
   "cell_type": "code",
   "execution_count": 6,
   "metadata": {},
   "outputs": [],
   "source": [
    "test_loader = torch.utils.data.DataLoader(\n",
    "    datasets.MNIST('./data', train=False, transform=transforms.Compose([\n",
    "                       transforms.ToTensor(),\n",
    "                       transforms.Normalize((0.1307,), (0.3081,))\n",
    "                       ])),\n",
    "                       batch_size=batch_size, shuffle=True)"
   ]
  },
  {
   "cell_type": "code",
   "execution_count": 7,
   "metadata": {
    "collapsed": true
   },
   "outputs": [],
   "source": [
    "class rectifier_mlp(nn.Module):\n",
    "    def __init__(self):\n",
    "        super(rectifier_mlp, self).__init__()\n",
    "        self.fc1 = nn.Linear(784, 1024)\n",
    "        self.fc2 = nn.Linear(1024, 10)\n",
    "        self.dropout = nn.Dropout()\n",
    "\n",
    "    def forward(self, x): \n",
    "        x = x.view(-1, 784)\n",
    "        x = F.relu(self.fc1(x))\n",
    "        x = self.dropout(x)\n",
    "        x = self.fc2(x)\n",
    "        return x"
   ]
  },
  {
   "cell_type": "code",
   "execution_count": 8,
   "metadata": {
    "collapsed": true
   },
   "outputs": [],
   "source": [
    "class maxout_mlp(nn.Module):\n",
    "    def __init__(self, num_units=2):\n",
    "        super(maxout_mlp, self).__init__()\n",
    "        self.fc1_list = nn.ModuleList()\n",
    "        self.fc2_list = nn.ModuleList()\n",
    "        self.dropout = nn.Dropout()\n",
    "        for _ in range(num_units):\n",
    "            self.fc1_list.append(nn.Linear(784, 1024))\n",
    "            self.fc2_list.append(nn.Linear(1024, 10))\n",
    "\n",
    "    def forward(self, x): \n",
    "        x = x.view(-1, 784)\n",
    "        x = self.maxout(x, self.fc1_list)\n",
    "        x = self.dropout(x)\n",
    "        x = self.maxout(x, self.fc2_list)\n",
    "        return x\n",
    "\n",
    "    def maxout(self, x, layer_list):\n",
    "        max_output = layer_list[0](x)\n",
    "        for _, layer in enumerate(layer_list, start=1):\n",
    "            max_output = torch.max(max_output, layer(x))\n",
    "        return max_output"
   ]
  },
  {
   "cell_type": "code",
   "execution_count": 36,
   "metadata": {
    "collapsed": true
   },
   "outputs": [],
   "source": [
    "def train(epoch,  net, train_loss, train_acc): \n",
    "    optimizer = torch.optim.Adam(net.parameters(), lr=learning_rate)\n",
    "    net.train()\n",
    "    for batch_idx, (data, target) in enumerate(train_loader): \n",
    "        data, target = data.to(device), target.to(device)\n",
    "        optimizer.zero_grad()\n",
    "        output = net(data)\n",
    "        loss = F.cross_entropy(output, target)\n",
    "        train_loss.append(loss.item())\n",
    "        loss.backward()\n",
    "        optimizer.step()\n",
    "        prediction = output.data.max(1)[1]\n",
    "        accuracy = prediction.eq(target.data).sum().float()/batch_size*100.0 \n",
    "        train_acc.append(accuracy)\n",
    "        if batch_idx % 100 == 0:\n",
    "            print('Train Epoch: {} [{}/{} ({:.0f}%)]\\tLoss: {:.6f}'.format(\n",
    "                epoch, batch_idx * len(data), len(train_loader.dataset),\n",
    "                100. * batch_idx / len(train_loader), loss.item()))"
   ]
  },
  {
   "cell_type": "code",
   "execution_count": 37,
   "metadata": {
    "collapsed": true
   },
   "outputs": [],
   "source": [
    "def test(epoch, net):\n",
    "    net.eval()\n",
    "    test_loss = 0\n",
    "    correct = 0\n",
    "    with torch.no_grad():\n",
    "        for data, target in test_loader:\n",
    "            data, target = data.to(device), target.to(device)\n",
    "            output = net(data)\n",
    "            test_loss += F.cross_entropy(output, target).item()\n",
    "            pred = output.data.max(1)[1] # get the index of the max log-probability\n",
    "            correct += pred.eq(target.data).cpu().sum()\n",
    "\n",
    "        test_loss = test_loss\n",
    "        test_loss /= len(test_loader) # loss function already averages over batch size\n",
    "        print('\\nTest set: Average loss: {:.4f}, Accuracy: {}/{} ({:.0f}%)\\n'.format(\n",
    "            test_loss, correct, len(test_loader.dataset),\n",
    "            100. * correct / len(test_loader.dataset)))"
   ]
  },
  {
   "cell_type": "code",
   "execution_count": 38,
   "metadata": {},
   "outputs": [
    {
     "name": "stdout",
     "output_type": "stream",
     "text": [
      "Train Epoch: 0 [0/60000 (0%)]\tLoss: 2.333392\n",
      "Train Epoch: 0 [5000/60000 (8%)]\tLoss: 0.668069\n",
      "Train Epoch: 0 [10000/60000 (17%)]\tLoss: 0.383142\n",
      "Train Epoch: 0 [15000/60000 (25%)]\tLoss: 0.519796\n",
      "Train Epoch: 0 [20000/60000 (33%)]\tLoss: 0.250225\n",
      "Train Epoch: 0 [25000/60000 (42%)]\tLoss: 0.424916\n",
      "Train Epoch: 0 [30000/60000 (50%)]\tLoss: 0.197328\n",
      "Train Epoch: 0 [35000/60000 (58%)]\tLoss: 0.400900\n",
      "Train Epoch: 0 [40000/60000 (67%)]\tLoss: 0.408135\n",
      "Train Epoch: 0 [45000/60000 (75%)]\tLoss: 0.160900\n",
      "Train Epoch: 0 [50000/60000 (83%)]\tLoss: 0.280716\n",
      "Train Epoch: 0 [55000/60000 (92%)]\tLoss: 0.285703\n",
      "\n",
      "Test set: Average loss: 0.2135, Accuracy: 9393/10000 (93%)\n",
      "\n",
      "Train Epoch: 1 [0/60000 (0%)]\tLoss: 0.123724\n",
      "Train Epoch: 1 [5000/60000 (8%)]\tLoss: 0.132765\n",
      "Train Epoch: 1 [10000/60000 (17%)]\tLoss: 0.170325\n",
      "Train Epoch: 1 [15000/60000 (25%)]\tLoss: 0.330656\n",
      "Train Epoch: 1 [20000/60000 (33%)]\tLoss: 0.170931\n",
      "Train Epoch: 1 [25000/60000 (42%)]\tLoss: 0.206825\n",
      "Train Epoch: 1 [30000/60000 (50%)]\tLoss: 0.259060\n",
      "Train Epoch: 1 [35000/60000 (58%)]\tLoss: 0.106665\n",
      "Train Epoch: 1 [40000/60000 (67%)]\tLoss: 0.360179\n",
      "Train Epoch: 1 [45000/60000 (75%)]\tLoss: 0.225617\n",
      "Train Epoch: 1 [50000/60000 (83%)]\tLoss: 0.086727\n",
      "Train Epoch: 1 [55000/60000 (92%)]\tLoss: 0.066806\n",
      "\n",
      "Test set: Average loss: 0.1486, Accuracy: 9573/10000 (95%)\n",
      "\n",
      "Train Epoch: 2 [0/60000 (0%)]\tLoss: 0.157338\n",
      "Train Epoch: 2 [5000/60000 (8%)]\tLoss: 0.235681\n",
      "Train Epoch: 2 [10000/60000 (17%)]\tLoss: 0.125065\n",
      "Train Epoch: 2 [15000/60000 (25%)]\tLoss: 0.106488\n",
      "Train Epoch: 2 [20000/60000 (33%)]\tLoss: 0.311100\n",
      "Train Epoch: 2 [25000/60000 (42%)]\tLoss: 0.124668\n",
      "Train Epoch: 2 [30000/60000 (50%)]\tLoss: 0.046461\n",
      "Train Epoch: 2 [35000/60000 (58%)]\tLoss: 0.331742\n",
      "Train Epoch: 2 [40000/60000 (67%)]\tLoss: 0.075372\n",
      "Train Epoch: 2 [45000/60000 (75%)]\tLoss: 0.088107\n",
      "Train Epoch: 2 [50000/60000 (83%)]\tLoss: 0.147185\n",
      "Train Epoch: 2 [55000/60000 (92%)]\tLoss: 0.133448\n",
      "\n",
      "Test set: Average loss: 0.1171, Accuracy: 9658/10000 (96%)\n",
      "\n"
     ]
    }
   ],
   "source": [
    "mlp_relu = rectifier_mlp().to(device)\n",
    "relu_mlp_loss = [] \n",
    "relu_mlp_acc = []\n",
    "for epoch in range(n_epochs): \n",
    "    train(epoch, mlp_relu, relu_mlp_loss, relu_mlp_acc)\n",
    "    test(epoch, mlp_relu)"
   ]
  },
  {
   "cell_type": "code",
   "execution_count": 39,
   "metadata": {},
   "outputs": [
    {
     "name": "stdout",
     "output_type": "stream",
     "text": [
      "Train Epoch: 0 [0/60000 (0%)]\tLoss: 2.341381\n",
      "Train Epoch: 0 [5000/60000 (8%)]\tLoss: 0.765297\n",
      "Train Epoch: 0 [10000/60000 (17%)]\tLoss: 0.424273\n",
      "Train Epoch: 0 [15000/60000 (25%)]\tLoss: 0.275276\n",
      "Train Epoch: 0 [20000/60000 (33%)]\tLoss: 0.377032\n",
      "Train Epoch: 0 [25000/60000 (42%)]\tLoss: 0.338851\n",
      "Train Epoch: 0 [30000/60000 (50%)]\tLoss: 0.155935\n",
      "Train Epoch: 0 [35000/60000 (58%)]\tLoss: 0.227752\n",
      "Train Epoch: 0 [40000/60000 (67%)]\tLoss: 0.123138\n",
      "Train Epoch: 0 [45000/60000 (75%)]\tLoss: 0.145293\n",
      "Train Epoch: 0 [50000/60000 (83%)]\tLoss: 0.202979\n",
      "Train Epoch: 0 [55000/60000 (92%)]\tLoss: 0.250366\n",
      "\n",
      "Test set: Average loss: 0.1365, Accuracy: 9624/10000 (96%)\n",
      "\n",
      "Train Epoch: 1 [0/60000 (0%)]\tLoss: 0.139623\n",
      "Train Epoch: 1 [5000/60000 (8%)]\tLoss: 0.052591\n",
      "Train Epoch: 1 [10000/60000 (17%)]\tLoss: 0.043543\n",
      "Train Epoch: 1 [15000/60000 (25%)]\tLoss: 0.096602\n",
      "Train Epoch: 1 [20000/60000 (33%)]\tLoss: 0.054987\n",
      "Train Epoch: 1 [25000/60000 (42%)]\tLoss: 0.101092\n",
      "Train Epoch: 1 [30000/60000 (50%)]\tLoss: 0.051419\n",
      "Train Epoch: 1 [35000/60000 (58%)]\tLoss: 0.129910\n",
      "Train Epoch: 1 [40000/60000 (67%)]\tLoss: 0.043604\n",
      "Train Epoch: 1 [45000/60000 (75%)]\tLoss: 0.217555\n",
      "Train Epoch: 1 [50000/60000 (83%)]\tLoss: 0.116325\n",
      "Train Epoch: 1 [55000/60000 (92%)]\tLoss: 0.062521\n",
      "\n",
      "Test set: Average loss: 0.0925, Accuracy: 9725/10000 (97%)\n",
      "\n",
      "Train Epoch: 2 [0/60000 (0%)]\tLoss: 0.082026\n",
      "Train Epoch: 2 [5000/60000 (8%)]\tLoss: 0.016901\n",
      "Train Epoch: 2 [10000/60000 (17%)]\tLoss: 0.178813\n",
      "Train Epoch: 2 [15000/60000 (25%)]\tLoss: 0.135800\n",
      "Train Epoch: 2 [20000/60000 (33%)]\tLoss: 0.057042\n",
      "Train Epoch: 2 [25000/60000 (42%)]\tLoss: 0.081587\n",
      "Train Epoch: 2 [30000/60000 (50%)]\tLoss: 0.031173\n",
      "Train Epoch: 2 [35000/60000 (58%)]\tLoss: 0.079199\n",
      "Train Epoch: 2 [40000/60000 (67%)]\tLoss: 0.079087\n",
      "Train Epoch: 2 [45000/60000 (75%)]\tLoss: 0.182722\n",
      "Train Epoch: 2 [50000/60000 (83%)]\tLoss: 0.043531\n",
      "Train Epoch: 2 [55000/60000 (92%)]\tLoss: 0.018403\n",
      "\n",
      "Test set: Average loss: 0.0716, Accuracy: 9780/10000 (97%)\n",
      "\n"
     ]
    }
   ],
   "source": [
    "mlp_maxout = maxout_mlp(num_units=5).to(device)\n",
    "maxout_mlp_loss = [] \n",
    "maxout_mlp_acc = []\n",
    "for epoch in range(n_epochs): \n",
    "    train(epoch, mlp_maxout, maxout_mlp_loss, maxout_mlp_acc)\n",
    "    test(epoch, mlp_maxout)"
   ]
  },
  {
   "cell_type": "code",
   "execution_count": 43,
   "metadata": {
    "collapsed": true
   },
   "outputs": [],
   "source": [
    "class rectifier_conv_net(nn.Module):\n",
    "    def __init__(self):\n",
    "        super(rectifier_conv_net, self).__init__()\n",
    "        self.conv1 = nn.Conv2d(1, 32, 5, padding=2)  # zero-padding added to both side of the input\n",
    "        self.conv2 = nn.Conv2d(32, 64, 5, padding=2)\n",
    "        self.fc1 = nn.Linear(64*7*7, 1024)\n",
    "        self.fc2 = nn.Linear(1024, 10)\n",
    "        self.dropout = nn.Dropout()\n",
    "\n",
    "    def forward(self, x): \n",
    "        x = F.max_pool2d(F.relu(self.conv1(x)), 2)\n",
    "        # [B, 32, 14, 14]\n",
    "        x = F.max_pool2d(F.relu(self.conv2(x)), 2)\n",
    "        # [B, 64, 7, 7]\n",
    "        x = x.view(-1, 64*7*7)\n",
    "        x = F.relu(self.fc1(x))\n",
    "        x = self.dropout(x)\n",
    "        x = self.fc2(x)\n",
    "        return x"
   ]
  },
  {
   "cell_type": "code",
   "execution_count": 44,
   "metadata": {
    "collapsed": true
   },
   "outputs": [],
   "source": [
    "class maxout_conv_net(nn.Module):\n",
    "    def __init__(self, num_units=2):\n",
    "        super(maxout_conv_net, self).__init__()\n",
    "        self.conv1_list = nn.ModuleList()\n",
    "        self.conv2_list = nn.ModuleList()\n",
    "        self.fc1_list = nn.ModuleList()\n",
    "        self.fc2_list = nn.ModuleList()\n",
    "        self.dropout = nn.Dropout()\n",
    "        for _ in range(num_units):\n",
    "            self.conv1_list.append(nn.Conv2d(1, 32, 5, padding=2))\n",
    "            self.conv2_list.append(nn.Conv2d(32, 64, 5, padding=2))\n",
    "            self.fc1_list.append(nn.Linear(64*7*7, 1024))\n",
    "            self.fc2_list.append(nn.Linear(1024, 10))\n",
    "\n",
    "    def forward(self, x): \n",
    "        x = F.max_pool2d(self.maxout(x, self.conv1_list), 2)\n",
    "        x = F.max_pool2d(self.maxout(x, self.conv2_list), 2)\n",
    "        x = x.view(-1, 64*7*7)\n",
    "        x = self.maxout(x, self.fc1_list)\n",
    "        x = self.dropout(x)\n",
    "        x = self.maxout(x, self.fc2_list)\n",
    "        return x\n",
    "\n",
    "    def maxout(self, x, layer_list):\n",
    "        max_output = layer_list[0](x)\n",
    "        for _, layer in enumerate(layer_list, start=1):\n",
    "            max_output = torch.max(max_output, layer(x))\n",
    "        return max_output"
   ]
  },
  {
   "cell_type": "code",
   "execution_count": 45,
   "metadata": {},
   "outputs": [
    {
     "name": "stdout",
     "output_type": "stream",
     "text": [
      "Train Epoch: 0 [0/60000 (0%)]\tLoss: 2.312882\n",
      "Train Epoch: 0 [5000/60000 (8%)]\tLoss: 0.543504\n",
      "Train Epoch: 0 [10000/60000 (17%)]\tLoss: 0.199146\n",
      "Train Epoch: 0 [15000/60000 (25%)]\tLoss: 0.355826\n",
      "Train Epoch: 0 [20000/60000 (33%)]\tLoss: 0.198580\n",
      "Train Epoch: 0 [25000/60000 (42%)]\tLoss: 0.113778\n",
      "Train Epoch: 0 [30000/60000 (50%)]\tLoss: 0.117420\n",
      "Train Epoch: 0 [35000/60000 (58%)]\tLoss: 0.207189\n",
      "Train Epoch: 0 [40000/60000 (67%)]\tLoss: 0.060757\n",
      "Train Epoch: 0 [45000/60000 (75%)]\tLoss: 0.302293\n",
      "Train Epoch: 0 [50000/60000 (83%)]\tLoss: 0.109785\n",
      "Train Epoch: 0 [55000/60000 (92%)]\tLoss: 0.031707\n",
      "\n",
      "Test set: Average loss: 0.0743, Accuracy: 9773/10000 (97%)\n",
      "\n",
      "Train Epoch: 1 [0/60000 (0%)]\tLoss: 0.088204\n",
      "Train Epoch: 1 [5000/60000 (8%)]\tLoss: 0.112422\n",
      "Train Epoch: 1 [10000/60000 (17%)]\tLoss: 0.048545\n",
      "Train Epoch: 1 [15000/60000 (25%)]\tLoss: 0.110222\n",
      "Train Epoch: 1 [20000/60000 (33%)]\tLoss: 0.078297\n",
      "Train Epoch: 1 [25000/60000 (42%)]\tLoss: 0.037116\n",
      "Train Epoch: 1 [30000/60000 (50%)]\tLoss: 0.026240\n",
      "Train Epoch: 1 [35000/60000 (58%)]\tLoss: 0.047568\n",
      "Train Epoch: 1 [40000/60000 (67%)]\tLoss: 0.019530\n",
      "Train Epoch: 1 [45000/60000 (75%)]\tLoss: 0.006378\n",
      "Train Epoch: 1 [50000/60000 (83%)]\tLoss: 0.051312\n",
      "Train Epoch: 1 [55000/60000 (92%)]\tLoss: 0.085533\n",
      "\n",
      "Test set: Average loss: 0.0409, Accuracy: 9875/10000 (98%)\n",
      "\n",
      "Train Epoch: 2 [0/60000 (0%)]\tLoss: 0.037899\n",
      "Train Epoch: 2 [5000/60000 (8%)]\tLoss: 0.080243\n",
      "Train Epoch: 2 [10000/60000 (17%)]\tLoss: 0.018451\n",
      "Train Epoch: 2 [15000/60000 (25%)]\tLoss: 0.068353\n",
      "Train Epoch: 2 [20000/60000 (33%)]\tLoss: 0.043690\n",
      "Train Epoch: 2 [25000/60000 (42%)]\tLoss: 0.101088\n",
      "Train Epoch: 2 [30000/60000 (50%)]\tLoss: 0.043519\n",
      "Train Epoch: 2 [35000/60000 (58%)]\tLoss: 0.009315\n",
      "Train Epoch: 2 [40000/60000 (67%)]\tLoss: 0.007277\n",
      "Train Epoch: 2 [45000/60000 (75%)]\tLoss: 0.112809\n",
      "Train Epoch: 2 [50000/60000 (83%)]\tLoss: 0.012027\n",
      "Train Epoch: 2 [55000/60000 (92%)]\tLoss: 0.045477\n",
      "\n",
      "Test set: Average loss: 0.0352, Accuracy: 9894/10000 (98%)\n",
      "\n"
     ]
    }
   ],
   "source": [
    "net_relu = rectifier_conv_net().to(device)\n",
    "relu_loss = [] \n",
    "relu_acc = []\n",
    "for epoch in range(n_epochs): \n",
    "    train(epoch, net_relu, relu_loss, relu_acc)\n",
    "    test(epoch, net_relu)"
   ]
  },
  {
   "cell_type": "code",
   "execution_count": 52,
   "metadata": {},
   "outputs": [
    {
     "name": "stdout",
     "output_type": "stream",
     "text": [
      "Train Epoch: 0 [0/60000 (0%)]\tLoss: 2.360562\n",
      "Train Epoch: 0 [5000/60000 (8%)]\tLoss: 0.295352\n",
      "Train Epoch: 0 [10000/60000 (17%)]\tLoss: 0.196501\n",
      "Train Epoch: 0 [15000/60000 (25%)]\tLoss: 0.160406\n",
      "Train Epoch: 0 [20000/60000 (33%)]\tLoss: 0.092157\n",
      "Train Epoch: 0 [25000/60000 (42%)]\tLoss: 0.029004\n",
      "Train Epoch: 0 [30000/60000 (50%)]\tLoss: 0.055983\n",
      "Train Epoch: 0 [35000/60000 (58%)]\tLoss: 0.080423\n",
      "Train Epoch: 0 [40000/60000 (67%)]\tLoss: 0.043930\n",
      "Train Epoch: 0 [45000/60000 (75%)]\tLoss: 0.051483\n",
      "Train Epoch: 0 [50000/60000 (83%)]\tLoss: 0.172550\n",
      "Train Epoch: 0 [55000/60000 (92%)]\tLoss: 0.166261\n",
      "\n",
      "Test set: Average loss: 0.0424, Accuracy: 9862/10000 (98%)\n",
      "\n",
      "Train Epoch: 1 [0/60000 (0%)]\tLoss: 0.072736\n",
      "Train Epoch: 1 [5000/60000 (8%)]\tLoss: 0.061517\n",
      "Train Epoch: 1 [10000/60000 (17%)]\tLoss: 0.255888\n",
      "Train Epoch: 1 [15000/60000 (25%)]\tLoss: 0.147335\n",
      "Train Epoch: 1 [20000/60000 (33%)]\tLoss: 0.071280\n",
      "Train Epoch: 1 [25000/60000 (42%)]\tLoss: 0.007710\n",
      "Train Epoch: 1 [30000/60000 (50%)]\tLoss: 0.087302\n",
      "Train Epoch: 1 [35000/60000 (58%)]\tLoss: 0.003828\n",
      "Train Epoch: 1 [40000/60000 (67%)]\tLoss: 0.041275\n",
      "Train Epoch: 1 [45000/60000 (75%)]\tLoss: 0.014343\n",
      "Train Epoch: 1 [50000/60000 (83%)]\tLoss: 0.033629\n",
      "Train Epoch: 1 [55000/60000 (92%)]\tLoss: 0.119920\n",
      "\n",
      "Test set: Average loss: 0.0279, Accuracy: 9912/10000 (99%)\n",
      "\n",
      "Train Epoch: 2 [0/60000 (0%)]\tLoss: 0.059666\n",
      "Train Epoch: 2 [5000/60000 (8%)]\tLoss: 0.047653\n",
      "Train Epoch: 2 [10000/60000 (17%)]\tLoss: 0.053885\n",
      "Train Epoch: 2 [15000/60000 (25%)]\tLoss: 0.153307\n",
      "Train Epoch: 2 [20000/60000 (33%)]\tLoss: 0.004085\n",
      "Train Epoch: 2 [25000/60000 (42%)]\tLoss: 0.070746\n",
      "Train Epoch: 2 [30000/60000 (50%)]\tLoss: 0.006293\n",
      "Train Epoch: 2 [35000/60000 (58%)]\tLoss: 0.007998\n",
      "Train Epoch: 2 [40000/60000 (67%)]\tLoss: 0.005290\n",
      "Train Epoch: 2 [45000/60000 (75%)]\tLoss: 0.001648\n",
      "Train Epoch: 2 [50000/60000 (83%)]\tLoss: 0.086402\n",
      "Train Epoch: 2 [55000/60000 (92%)]\tLoss: 0.050674\n",
      "\n",
      "Test set: Average loss: 0.0365, Accuracy: 9875/10000 (98%)\n",
      "\n"
     ]
    }
   ],
   "source": [
    "net_maxout = maxout_conv_net(num_units=5).to(device)\n",
    "maxout_loss = [] \n",
    "maxout_acc = []\n",
    "for epoch in range(n_epochs): \n",
    "    train(epoch, net_maxout, maxout_loss, maxout_acc)\n",
    "    test(epoch, net_maxout)"
   ]
  },
  {
   "cell_type": "code",
   "execution_count": 53,
   "metadata": {},
   "outputs": [
    {
     "data": {
      "text/plain": [
       "<matplotlib.legend.Legend at 0x7fbe27e74898>"
      ]
     },
     "execution_count": 53,
     "metadata": {},
     "output_type": "execute_result"
    },
    {
     "data": {
      "image/png": "[encoded data removed]",
      "text/plain": [
       "<matplotlib.figure.Figure at 0x7fbe2541be48>"
      ]
     },
     "metadata": {},
     "output_type": "display_data"
    }
   ],
   "source": [
    "sns.set()\n",
    "plot1, = plt.plot(maxout_mlp_loss, label='maxout_mlp')\n",
    "plot2, = plt.plot(relu_mlp_loss, label='relu_mlp')\n",
    "plt.legend(handles=[plot1, plot2])"
   ]
  },
  {
   "cell_type": "code",
   "execution_count": 54,
   "metadata": {},
   "outputs": [
    {
     "data": {
      "text/plain": [
       "<matplotlib.legend.Legend at 0x7fbe25304e10>"
      ]
     },
     "execution_count": 54,
     "metadata": {},
     "output_type": "execute_result"
    },
    {
     "data": {
      "image/png": "[encoded data removed]",
      "text/plain": [
       "<matplotlib.figure.Figure at 0x7fbe254022e8>"
      ]
     },
     "metadata": {},
     "output_type": "display_data"
    }
   ],
   "source": [
    "plot1, = plt.plot(maxout_mlp_acc, label='maxout_mlp')\n",
    "plot2, = plt.plot(relu_mlp_acc, label='relu_mlp')\n",
    "plt.legend(handles=[plot1, plot2])"
   ]
  },
  {
   "cell_type": "code",
   "execution_count": null,
   "metadata": {
    "collapsed": true
   },
   "outputs": [],
   "source": []
  }
 ],
 "metadata": {
  "kernelspec": {
   "display_name": "Python 3",
   "language": "python",
   "name": "python3"
  },
  "language_info": {
   "codemirror_mode": {
    "name": "ipython",
    "version": 3
   },
   "file_extension": ".py",
   "mimetype": "text/x-python",
   "name": "python",
   "nbconvert_exporter": "python",
   "pygments_lexer": "ipython3",
   "version": "3.6.2"
  }
 },
 "nbformat": 4,
 "nbformat_minor": 2
}
